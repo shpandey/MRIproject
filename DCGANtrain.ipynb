{
  "nbformat": 4,
  "nbformat_minor": 0,
  "metadata": {
    "colab": {
      "name": "DCGANtrain.ipynb",
      "provenance": [],
      "collapsed_sections": [],
      "machine_shape": "hm",
      "authorship_tag": "ABX9TyNZTxG34HjKqb71mNfenUCL",
      "include_colab_link": true
    },
    "kernelspec": {
      "name": "python3",
      "display_name": "Python 3"
    },
    "language_info": {
      "name": "python"
    },
    "accelerator": "GPU"
  },
  "cells": [
    {
      "cell_type": "markdown",
      "metadata": {
        "id": "view-in-github",
        "colab_type": "text"
      },
      "source": [
        "<a href=\"https://colab.research.google.com/github/shpandey/MRIproject/blob/main/DCGANtrain.ipynb\" target=\"_parent\"><img src=\"https://colab.research.google.com/assets/colab-badge.svg\" alt=\"Open In Colab\"/></a>"
      ]
    },
    {
      "cell_type": "code",
      "metadata": {
        "colab": {
          "base_uri": "https://localhost:8080/"
        },
        "id": "q6cnM-30Opfi",
        "outputId": "c6fb2b66-57c7-499c-d2b3-16d1614da2f4"
      },
      "source": [
        "# Mount the Google Drive so we can access data\n",
        "from google.colab import drive\n",
        "drive.mount(\"/content/drive\")"
      ],
      "execution_count": 1,
      "outputs": [
        {
          "output_type": "stream",
          "name": "stdout",
          "text": [
            "Drive already mounted at /content/drive; to attempt to forcibly remount, call drive.mount(\"/content/drive\", force_remount=True).\n"
          ]
        }
      ]
    },
    {
      "cell_type": "code",
      "metadata": {
        "colab": {
          "base_uri": "https://localhost:8080/"
        },
        "id": "_RMmJBDPOyZr",
        "outputId": "6fa50191-a30b-4dfc-8546-c62622c34922"
      },
      "source": [
        "import sys\n",
        "sys.path.append('drive/My Drive/Colab Notebooks/MRI project/fastMRI-GAN-master/model')\n",
        "!ls 'drive/My Drive/Colab Notebooks/MRI project/fastMRI-GAN-master/model'\n",
        "!ls"
      ],
      "execution_count": 2,
      "outputs": [
        {
          "output_type": "stream",
          "name": "stdout",
          "text": [
            "DCGAN.py\t InfoGAN.py  __pycache__  VAE-PixelCNN.py  VQVAE1.py\n",
            "fastmri_data.py  layers      utils\t  VAE.py\n",
            "checkpoint\t\t\t my-model-40.index\n",
            "DCGAN\t\t\t\t my-model-40.meta\n",
            "drive\t\t\t\t my-model-60.data-00000-of-00001\n",
            "my-model-20.data-00000-of-00001  my-model-60.index\n",
            "my-model-20.index\t\t my-model-60.meta\n",
            "my-model-20.meta\t\t sample_data\n",
            "my-model-40.data-00000-of-00001\n"
          ]
        }
      ]
    },
    {
      "cell_type": "code",
      "metadata": {
        "id": "8c2h2q72O2nY"
      },
      "source": [
        "#!pip install -r '/content/drive/My Drive/Colab Notebooks/MRI project/fastMRI-GAN-master/requirements.txt'\n",
        "#!pip install s3fs\n",
        "#!pip install pydicom\n",
        "import numpy as np\n",
        "from matplotlib import pyplot as plt\n",
        "plt.rcParams[\"figure.figsize\"] = (10, 10)\n",
        "import h5py\n",
        "import s3fs\n",
        "import pydicom\n",
        "from pydicom.data import get_testdata_file"
      ],
      "execution_count": 3,
      "outputs": []
    },
    {
      "cell_type": "code",
      "metadata": {
        "colab": {
          "base_uri": "https://localhost:8080/"
        },
        "id": "FZrBv4ouO5Y8",
        "outputId": "dba9d511-3c30-4b3f-b0a7-b8fe2c4fbb9d"
      },
      "source": [
        "#!pip install s3fs\n",
        "import numpy as np\n",
        "from matplotlib import pyplot as plt\n",
        "plt.rcParams[\"figure.figsize\"] = (10, 10)\n",
        "import h5py\n",
        "import s3fs"
      ],
      "execution_count": 2,
      "outputs": [
        {
          "output_type": "stream",
          "name": "stdout",
          "text": [
            "Collecting s3fs\n",
            "  Downloading s3fs-2021.11.0-py3-none-any.whl (25 kB)\n",
            "Collecting aiohttp>=3.7.1\n",
            "  Downloading aiohttp-3.8.1-cp37-cp37m-manylinux_2_5_x86_64.manylinux1_x86_64.manylinux_2_12_x86_64.manylinux2010_x86_64.whl (1.1 MB)\n",
            "\u001b[K     |████████████████████████████████| 1.1 MB 10.7 MB/s \n",
            "\u001b[?25hCollecting fsspec==2021.11.0\n",
            "  Downloading fsspec-2021.11.0-py3-none-any.whl (132 kB)\n",
            "\u001b[K     |████████████████████████████████| 132 kB 60.9 MB/s \n",
            "\u001b[?25hCollecting aiobotocore~=1.4.1\n",
            "  Downloading aiobotocore-1.4.2.tar.gz (52 kB)\n",
            "\u001b[K     |████████████████████████████████| 52 kB 1.5 MB/s \n",
            "\u001b[?25hCollecting botocore<1.20.107,>=1.20.106\n",
            "  Downloading botocore-1.20.106-py2.py3-none-any.whl (7.7 MB)\n",
            "\u001b[K     |████████████████████████████████| 7.7 MB 28.5 MB/s \n",
            "\u001b[?25hRequirement already satisfied: wrapt>=1.10.10 in /usr/local/lib/python3.7/dist-packages (from aiobotocore~=1.4.1->s3fs) (1.13.3)\n",
            "Collecting aioitertools>=0.5.1\n",
            "  Downloading aioitertools-0.8.0-py3-none-any.whl (21 kB)\n",
            "Collecting multidict<7.0,>=4.5\n",
            "  Downloading multidict-5.2.0-cp37-cp37m-manylinux_2_5_x86_64.manylinux1_x86_64.manylinux_2_12_x86_64.manylinux2010_x86_64.whl (160 kB)\n",
            "\u001b[K     |████████████████████████████████| 160 kB 65.4 MB/s \n",
            "\u001b[?25hRequirement already satisfied: attrs>=17.3.0 in /usr/local/lib/python3.7/dist-packages (from aiohttp>=3.7.1->s3fs) (21.2.0)\n",
            "Collecting aiosignal>=1.1.2\n",
            "  Downloading aiosignal-1.2.0-py3-none-any.whl (8.2 kB)\n",
            "Requirement already satisfied: charset-normalizer<3.0,>=2.0 in /usr/local/lib/python3.7/dist-packages (from aiohttp>=3.7.1->s3fs) (2.0.7)\n",
            "Collecting yarl<2.0,>=1.0\n",
            "  Downloading yarl-1.7.2-cp37-cp37m-manylinux_2_5_x86_64.manylinux1_x86_64.manylinux_2_12_x86_64.manylinux2010_x86_64.whl (271 kB)\n",
            "\u001b[K     |████████████████████████████████| 271 kB 67.8 MB/s \n",
            "\u001b[?25hCollecting async-timeout<5.0,>=4.0.0a3\n",
            "  Downloading async_timeout-4.0.1-py3-none-any.whl (5.7 kB)\n",
            "Requirement already satisfied: typing-extensions>=3.7.4 in /usr/local/lib/python3.7/dist-packages (from aiohttp>=3.7.1->s3fs) (3.10.0.2)\n",
            "Collecting asynctest==0.13.0\n",
            "  Downloading asynctest-0.13.0-py3-none-any.whl (26 kB)\n",
            "Collecting frozenlist>=1.1.1\n",
            "  Downloading frozenlist-1.2.0-cp37-cp37m-manylinux_2_5_x86_64.manylinux1_x86_64.manylinux_2_12_x86_64.manylinux2010_x86_64.whl (192 kB)\n",
            "\u001b[K     |████████████████████████████████| 192 kB 61.6 MB/s \n",
            "\u001b[?25hCollecting jmespath<1.0.0,>=0.7.1\n",
            "  Downloading jmespath-0.10.0-py2.py3-none-any.whl (24 kB)\n",
            "Requirement already satisfied: python-dateutil<3.0.0,>=2.1 in /usr/local/lib/python3.7/dist-packages (from botocore<1.20.107,>=1.20.106->aiobotocore~=1.4.1->s3fs) (2.8.2)\n",
            "Collecting urllib3<1.27,>=1.25.4\n",
            "  Downloading urllib3-1.26.7-py2.py3-none-any.whl (138 kB)\n",
            "\u001b[K     |████████████████████████████████| 138 kB 65.1 MB/s \n",
            "\u001b[?25hRequirement already satisfied: six>=1.5 in /usr/local/lib/python3.7/dist-packages (from python-dateutil<3.0.0,>=2.1->botocore<1.20.107,>=1.20.106->aiobotocore~=1.4.1->s3fs) (1.15.0)\n",
            "Requirement already satisfied: idna>=2.0 in /usr/local/lib/python3.7/dist-packages (from yarl<2.0,>=1.0->aiohttp>=3.7.1->s3fs) (2.10)\n",
            "Building wheels for collected packages: aiobotocore\n",
            "  Building wheel for aiobotocore (setup.py) ... \u001b[?25l\u001b[?25hdone\n",
            "  Created wheel for aiobotocore: filename=aiobotocore-1.4.2-py3-none-any.whl size=49925 sha256=6b1d9f5a355840c0d8816bea7c0d3e58b8a9b0a6a3a681badcdff9c9f60bceb1\n",
            "  Stored in directory: /root/.cache/pip/wheels/33/e7/d9/b297a9aa9c43d56bc2463e6e2771655ff638f30b30f0b61fcb\n",
            "Successfully built aiobotocore\n",
            "Installing collected packages: multidict, frozenlist, yarl, urllib3, jmespath, asynctest, async-timeout, aiosignal, botocore, aioitertools, aiohttp, fsspec, aiobotocore, s3fs\n",
            "  Attempting uninstall: urllib3\n",
            "    Found existing installation: urllib3 1.24.3\n",
            "    Uninstalling urllib3-1.24.3:\n",
            "      Successfully uninstalled urllib3-1.24.3\n",
            "\u001b[31mERROR: pip's dependency resolver does not currently take into account all the packages that are installed. This behaviour is the source of the following dependency conflicts.\n",
            "requests 2.23.0 requires urllib3!=1.25.0,!=1.25.1,<1.26,>=1.21.1, but you have urllib3 1.26.7 which is incompatible.\n",
            "datascience 0.10.6 requires folium==0.2.1, but you have folium 0.8.3 which is incompatible.\u001b[0m\n",
            "Successfully installed aiobotocore-1.4.2 aiohttp-3.8.1 aioitertools-0.8.0 aiosignal-1.2.0 async-timeout-4.0.1 asynctest-0.13.0 botocore-1.20.106 frozenlist-1.2.0 fsspec-2021.11.0 jmespath-0.10.0 multidict-5.2.0 s3fs-2021.11.0 urllib3-1.26.7 yarl-1.7.2\n"
          ]
        }
      ]
    },
    {
      "cell_type": "code",
      "metadata": {
        "colab": {
          "base_uri": "https://localhost:8080/"
        },
        "id": "sXlLAQo-O8vO",
        "outputId": "92b686e0-15b3-4107-ef4a-7b9a6ca1bf2a"
      },
      "source": [
        "s3 = s3fs.S3FileSystem(anon=True)\n",
        "#files=s3.glob('s3://cs7643-fastmri/data/multicoil_train/*FLAIR_200*')\n",
        "files=s3.ls('s3://cs7643-fastmri/data/multicoil_train/')\n",
        "s3.ls('s3://cs7643-fastmri/data/')\n",
        "#filename = 's3://cs7643-fastmri/data/multicoil_train/file_brain_AXFLAIR_200_6002425.h5'\n",
        "#filename = 's3://cs7643-fastmri/data/multicoil_challenge/file_brain_AXFLAIR_200_6002454.h5'\n",
        "\n",
        "#hf = h5py.File(s3.open(filename, 'rb'))\n",
        "#print('Keys:', list(hf.keys()))\n",
        "#print('Attrs:', dict(hf.attrs))"
      ],
      "execution_count": 27,
      "outputs": [
        {
          "output_type": "execute_result",
          "data": {
            "text/plain": [
              "[]"
            ]
          },
          "metadata": {},
          "execution_count": 27
        }
      ]
    },
    {
      "cell_type": "code",
      "metadata": {
        "id": "K94jkA7_VcLl"
      },
      "source": [
        "#!pip install tensorflow-gpu"
      ],
      "execution_count": 6,
      "outputs": []
    },
    {
      "cell_type": "code",
      "metadata": {
        "colab": {
          "base_uri": "https://localhost:8080/"
        },
        "id": "rozlhQbrQRS9",
        "outputId": "5ef1878a-64c7-498f-c405-b33d6ae648ce"
      },
      "source": [
        "#import tensorflow\n",
        "#print(tensorflow.__version__)\n",
        "%tensorflow_version 1.x\n",
        "import tensorflow\n",
        "print(tensorflow.__version__)"
      ],
      "execution_count": 7,
      "outputs": [
        {
          "output_type": "stream",
          "name": "stdout",
          "text": [
            "TensorFlow 1.x selected.\n",
            "1.15.2\n"
          ]
        }
      ]
    },
    {
      "cell_type": "code",
      "metadata": {
        "colab": {
          "base_uri": "https://localhost:8080/"
        },
        "id": "DJdAC5_TU4aW",
        "outputId": "587d8106-615a-4e42-9e20-8bf82a5fb108"
      },
      "source": [
        "from tensorflow.python.client import device_lib\n",
        "import tensorflow as tf\n",
        "\n",
        "def get_available_gpus():\n",
        "    local_device_protos = device_lib.list_local_devices()\n",
        "    return [x.name for x in local_device_protos if x.device_type == 'GPU']\n",
        "print(get_available_gpus())\n",
        "\n",
        "#with tf.device('/job:localhost/replica:0/task:0/device:XLA_GPU:0'):\n",
        "with tf.compat.v1.Session() as sess:\n",
        "    hello = tf.constant('hello world')\n",
        "    print(sess,sess.run(hello))\n",
        "    "
      ],
      "execution_count": 8,
      "outputs": [
        {
          "output_type": "stream",
          "name": "stdout",
          "text": [
            "['/device:GPU:0']\n",
            "<tensorflow.python.client.session.Session object at 0x7f2384040c10> b'hello world'\n"
          ]
        }
      ]
    },
    {
      "cell_type": "code",
      "metadata": {
        "colab": {
          "base_uri": "https://localhost:8080/"
        },
        "id": "qlvyLSjpO9__",
        "outputId": "dbe32976-e768-48c4-80c0-6f22cd748220"
      },
      "source": [
        "#from DCGAN import DCGAN\n",
        "#del DCGAN\n",
        "from importlib import reload\n",
        "import DCGAN\n",
        "reload(DCGAN)\n",
        "from DCGAN import DCGAN\n",
        "network = DCGAN('DCGAN')"
      ],
      "execution_count": 9,
      "outputs": [
        {
          "output_type": "stream",
          "name": "stdout",
          "text": [
            "WARNING:tensorflow:\n",
            "The TensorFlow contrib module will not be included in TensorFlow 2.0.\n",
            "For more information, please see:\n",
            "  * https://github.com/tensorflow/community/blob/master/rfcs/20180907-contrib-sunset.md\n",
            "  * https://github.com/tensorflow/addons\n",
            "  * https://github.com/tensorflow/io (for I/O related ops)\n",
            "If you depend on functionality not listed there, please file an issue.\n",
            "\n",
            "WARNING:tensorflow:From drive/My Drive/Colab Notebooks/MRI project/fastMRI-GAN-master/model/DCGAN.py:51: The name tf.placeholder is deprecated. Please use tf.compat.v1.placeholder instead.\n",
            "\n",
            "64.0\n",
            "64.0\n",
            "WARNING:tensorflow:From drive/My Drive/Colab Notebooks/MRI project/fastMRI-GAN-master/model/DCGAN.py:96: The name tf.image.resize_images is deprecated. Please use tf.image.resize instead.\n",
            "\n",
            "WARNING:tensorflow:From drive/My Drive/Colab Notebooks/MRI project/fastMRI-GAN-master/model/utils/Layers.py:310: The name tf.variable_scope is deprecated. Please use tf.compat.v1.variable_scope instead.\n",
            "\n",
            "WARNING:tensorflow:From drive/My Drive/Colab Notebooks/MRI project/fastMRI-GAN-master/model/utils/Layers.py:311: The name tf.get_variable is deprecated. Please use tf.compat.v1.get_variable instead.\n",
            "\n",
            "WARNING:tensorflow:From drive/My Drive/Colab Notebooks/MRI project/fastMRI-GAN-master/model/DCGAN.py:314: batch_normalization (from tensorflow.python.layers.normalization) is deprecated and will be removed in a future version.\n",
            "Instructions for updating:\n",
            "Use keras.layers.BatchNormalization instead.  In particular, `tf.control_dependencies(tf.GraphKeys.UPDATE_OPS)` should not be used (consult the `tf.keras.layers.batch_normalization` documentation).\n",
            "WARNING:tensorflow:From /tensorflow-1.15.2/python3.7/tensorflow_core/python/layers/normalization.py:327: Layer.apply (from tensorflow.python.keras.engine.base_layer) is deprecated and will be removed in a future version.\n",
            "Instructions for updating:\n",
            "Please use `layer.__call__` method instead.\n",
            "Completed creating generator with last layer shape of\n",
            "(30, 128, 128, 1)\n",
            "[30, 128, 128, 1]\n",
            "Tensor(\"discriminator/d_d2_h0_conv/Conv2D:0\", shape=(?, 64, 64, 128), dtype=float32)\n",
            "Tensor(\"discriminator/d_d2_h1_conv/Conv2D:0\", shape=(?, 32, 32, 256), dtype=float32)\n",
            "Tensor(\"discriminator/d_d2_h2_conv/Conv2D:0\", shape=(?, 16, 16, 512), dtype=float32)\n",
            "Tensor(\"discriminator/d_d2_h3_conv/Conv2D:0\", shape=(?, 8, 8, 1024), dtype=float32)\n",
            "Tensor(\"discriminator/d_d2_h4_conv/Conv2D:0\", shape=(?, 4, 4, 2048), dtype=float32)\n",
            "WARNING:tensorflow:From drive/My Drive/Colab Notebooks/MRI project/fastMRI-GAN-master/model/DCGAN.py:287: flatten (from tensorflow.python.layers.core) is deprecated and will be removed in a future version.\n",
            "Instructions for updating:\n",
            "Use keras.layers.flatten instead.\n",
            "Tensor(\"discriminator/batch_normalization/FusedBatchNormV3:0\", shape=(?, 32, 32, 256), dtype=float32)\n",
            "Tensor(\"discriminator/batch_normalization_1/FusedBatchNormV3:0\", shape=(?, 16, 16, 512), dtype=float32)\n",
            "Tensor(\"discriminator/batch_normalization_2/FusedBatchNormV3:0\", shape=(?, 8, 8, 1024), dtype=float32)\n",
            "Tensor(\"discriminator/batch_normalization_3/FusedBatchNormV3:0\", shape=(?, 4, 4, 2048), dtype=float32)\n",
            "Tensor(\"discriminator/flatten/Reshape:0\", shape=(?, 32768), dtype=float32)\n",
            "Tensor(\"discriminator/Sigmoid:0\", shape=(?, 32768), dtype=float32)\n",
            "Discriminator Shape 2:\n",
            "Tensor(\"discriminator_1/d_d2_h0_conv/Conv2D:0\", shape=(30, 64, 64, 128), dtype=float32)\n",
            "Tensor(\"discriminator_1/d_d2_h1_conv/Conv2D:0\", shape=(30, 32, 32, 256), dtype=float32)\n",
            "Tensor(\"discriminator_1/d_d2_h2_conv/Conv2D:0\", shape=(30, 16, 16, 512), dtype=float32)\n",
            "Tensor(\"discriminator_1/d_d2_h3_conv/Conv2D:0\", shape=(30, 8, 8, 1024), dtype=float32)\n",
            "Tensor(\"discriminator_1/d_d2_h4_conv/Conv2D:0\", shape=(30, 4, 4, 2048), dtype=float32)\n",
            "Tensor(\"discriminator_1/batch_normalization/FusedBatchNormV3:0\", shape=(30, 32, 32, 256), dtype=float32)\n",
            "Tensor(\"discriminator_1/batch_normalization_1/FusedBatchNormV3:0\", shape=(30, 16, 16, 512), dtype=float32)\n",
            "Tensor(\"discriminator_1/batch_normalization_2/FusedBatchNormV3:0\", shape=(30, 8, 8, 1024), dtype=float32)\n",
            "Tensor(\"discriminator_1/batch_normalization_3/FusedBatchNormV3:0\", shape=(30, 4, 4, 2048), dtype=float32)\n",
            "Tensor(\"discriminator_1/flatten/Reshape:0\", shape=(30, 32768), dtype=float32)\n",
            "Tensor(\"discriminator_1/Sigmoid:0\", shape=(30, 32768), dtype=float32)\n",
            "WARNING:tensorflow:From /tensorflow-1.15.2/python3.7/tensorflow_core/python/ops/nn_impl.py:183: where (from tensorflow.python.ops.array_ops) is deprecated and will be removed in a future version.\n",
            "Instructions for updating:\n",
            "Use tf.where in 2.0, which has the same broadcast rule as np.where\n",
            "WARNING:tensorflow:From drive/My Drive/Colab Notebooks/MRI project/fastMRI-GAN-master/model/DCGAN.py:140: The name tf.trainable_variables is deprecated. Please use tf.compat.v1.trainable_variables instead.\n",
            "\n",
            "WARNING:tensorflow:From drive/My Drive/Colab Notebooks/MRI project/fastMRI-GAN-master/model/DCGAN.py:150: The name tf.train.AdamOptimizer is deprecated. Please use tf.compat.v1.train.AdamOptimizer instead.\n",
            "\n",
            "WARNING:tensorflow:From drive/My Drive/Colab Notebooks/MRI project/fastMRI-GAN-master/model/DCGAN.py:158: The name tf.summary.image is deprecated. Please use tf.compat.v1.summary.image instead.\n",
            "\n",
            "INFO:tensorflow:Summary name Generator fake output is illegal; using Generator_fake_output instead.\n",
            "INFO:tensorflow:Summary name Input image is illegal; using Input_image instead.\n",
            "WARNING:tensorflow:From drive/My Drive/Colab Notebooks/MRI project/fastMRI-GAN-master/model/DCGAN.py:163: The name tf.summary.histogram is deprecated. Please use tf.compat.v1.summary.histogram instead.\n",
            "\n",
            "INFO:tensorflow:Summary name Descriminator logits (Real) is illegal; using Descriminator_logits__Real_ instead.\n",
            "INFO:tensorflow:Summary name Descriminator logits (Fake) is illegal; using Descriminator_logits__Fake_ instead.\n",
            "WARNING:tensorflow:From drive/My Drive/Colab Notebooks/MRI project/fastMRI-GAN-master/model/DCGAN.py:166: The name tf.summary.scalar is deprecated. Please use tf.compat.v1.summary.scalar instead.\n",
            "\n",
            "INFO:tensorflow:Summary name Discriminator loss real is illegal; using Discriminator_loss_real instead.\n",
            "INFO:tensorflow:Summary name Generator loss fake is illegal; using Generator_loss_fake instead.\n",
            "INFO:tensorflow:Summary name Total Discriminator loss is illegal; using Total_Discriminator_loss instead.\n",
            "INFO:tensorflow:Summary name Generator loss is illegal; using Generator_loss instead.\n",
            "WARNING:tensorflow:From drive/My Drive/Colab Notebooks/MRI project/fastMRI-GAN-master/model/DCGAN.py:171: The name tf.summary.merge_all is deprecated. Please use tf.compat.v1.summary.merge_all instead.\n",
            "\n",
            "WARNING:tensorflow:From drive/My Drive/Colab Notebooks/MRI project/fastMRI-GAN-master/model/DCGAN.py:173: The name tf.global_variables_initializer is deprecated. Please use tf.compat.v1.global_variables_initializer instead.\n",
            "\n",
            "WARNING:tensorflow:From drive/My Drive/Colab Notebooks/MRI project/fastMRI-GAN-master/model/DCGAN.py:174: The name tf.train.Saver is deprecated. Please use tf.compat.v1.train.Saver instead.\n",
            "\n",
            "Completed creating the tensor-flow model\n"
          ]
        }
      ]
    },
    {
      "cell_type": "code",
      "metadata": {
        "colab": {
          "base_uri": "https://localhost:8080/"
        },
        "id": "QV5Vsns-PHV4",
        "outputId": "059dc9d9-205d-42e3-cfc8-090fdce07758"
      },
      "source": [
        "network.train()"
      ],
      "execution_count": 10,
      "outputs": [
        {
          "output_type": "stream",
          "name": "stdout",
          "text": [
            "<function device at 0x7f239dc4ecb0>\n",
            "Device mapping:\n",
            "/job:localhost/replica:0/task:0/device:XLA_CPU:0 -> device: XLA_CPU device\n",
            "/job:localhost/replica:0/task:0/device:XLA_GPU:0 -> device: XLA_GPU device\n",
            "/job:localhost/replica:0/task:0/device:GPU:0 -> device: 0, name: Tesla P100-PCIE-16GB, pci bus id: 0000:00:04.0, compute capability: 6.0\n",
            "\n",
            "<tensorflow.python.client.session.Session object at 0x7f21f494e290>\n",
            "WARNING:tensorflow:From drive/My Drive/Colab Notebooks/MRI project/fastMRI-GAN-master/model/DCGAN.py:373: The name tf.summary.FileWriter is deprecated. Please use tf.compat.v1.summary.FileWriter instead.\n",
            "\n",
            "WARNING:tensorflow:From drive/My Drive/Colab Notebooks/MRI project/fastMRI-GAN-master/model/DCGAN.py:373: The name tf.get_default_graph is deprecated. Please use tf.compat.v1.get_default_graph instead.\n",
            "\n",
            "************************ epoch:0*****************\n",
            "Number training data 61\n",
            "cs7643-fastmri/data/multicoil_train/file_brain_AXFLAIR_200_6002541.h5\n",
            "cs7643-fastmri/data/multicoil_train/file_brain_AXFLAIR_200_6002510.h5\n",
            "cs7643-fastmri/data/multicoil_train/file_brain_AXFLAIR_200_6002548.h5\n",
            "cs7643-fastmri/data/multicoil_train/file_brain_AXFLAIR_200_6002595.h5\n",
            "cs7643-fastmri/data/multicoil_train/file_brain_AXFLAIR_200_6002538.h5\n",
            "cs7643-fastmri/data/multicoil_train/file_brain_AXFLAIR_200_6002460.h5\n",
            "cs7643-fastmri/data/multicoil_train/file_brain_AXFLAIR_200_6002496.h5\n",
            "cs7643-fastmri/data/multicoil_train/file_brain_AXFLAIR_200_6002616.h5\n",
            "cs7643-fastmri/data/multicoil_train/file_brain_AXFLAIR_200_6002611.h5\n",
            "cs7643-fastmri/data/multicoil_train/file_brain_AXFLAIR_200_6002579.h5\n",
            "cs7643-fastmri/data/multicoil_train/file_brain_AXFLAIR_200_6002608.h5\n",
            "cs7643-fastmri/data/multicoil_train/file_brain_AXFLAIR_200_6002493.h5\n",
            "cs7643-fastmri/data/multicoil_train/file_brain_AXFLAIR_200_6002467.h5\n",
            "cs7643-fastmri/data/multicoil_train/file_brain_AXFLAIR_200_6002614.h5\n",
            "cs7643-fastmri/data/multicoil_train/file_brain_AXFLAIR_200_6002600.h5\n",
            "cs7643-fastmri/data/multicoil_train/file_brain_AXFLAIR_200_6002503.h5\n",
            "cs7643-fastmri/data/multicoil_train/file_brain_AXFLAIR_200_6002641.h5\n",
            "cs7643-fastmri/data/multicoil_train/file_brain_AXFLAIR_200_6002576.h5\n",
            "cs7643-fastmri/data/multicoil_train/file_brain_AXFLAIR_200_6002566.h5\n",
            "cs7643-fastmri/data/multicoil_train/file_brain_AXFLAIR_200_6002648.h5\n",
            "Epoch:  0 learning rate:0.0001 Generator loss:0.69320095Discriminator loss: 1.3862637\n",
            "cs7643-fastmri/data/multicoil_train/file_brain_AXFLAIR_200_6002638.h5\n",
            "cs7643-fastmri/data/multicoil_train/file_brain_AXFLAIR_200_6002429.h5\n",
            "cs7643-fastmri/data/multicoil_train/file_brain_AXFLAIR_200_6002525.h5\n",
            "cs7643-fastmri/data/multicoil_train/file_brain_AXFLAIR_200_6002466.h5\n",
            "cs7643-fastmri/data/multicoil_train/file_brain_AXFLAIR_200_6002469.h5\n",
            "cs7643-fastmri/data/multicoil_train/file_brain_AXFLAIR_200_6002506.h5\n",
            "cs7643-fastmri/data/multicoil_train/file_brain_AXFLAIR_200_6002653.h5\n",
            "cs7643-fastmri/data/multicoil_train/file_brain_AXFLAIR_200_6002618.h5\n",
            "cs7643-fastmri/data/multicoil_train/file_brain_AXFLAIR_200_6002585.h5\n",
            "cs7643-fastmri/data/multicoil_train/file_brain_AXFLAIR_200_6002543.h5\n",
            "cs7643-fastmri/data/multicoil_train/file_brain_AXFLAIR_200_6002516.h5\n",
            "cs7643-fastmri/data/multicoil_train/file_brain_AXFLAIR_200_6002629.h5\n",
            "cs7643-fastmri/data/multicoil_train/file_brain_AXFLAIR_200_6002435.h5\n",
            "cs7643-fastmri/data/multicoil_train/file_brain_AXFLAIR_200_6002458.h5\n",
            "cs7643-fastmri/data/multicoil_train/file_brain_AXFLAIR_200_6002488.h5\n",
            "cs7643-fastmri/data/multicoil_train/file_brain_AXFLAIR_200_6002650.h5\n",
            "cs7643-fastmri/data/multicoil_train/file_brain_AXFLAIR_200_6002512.h5\n",
            "cs7643-fastmri/data/multicoil_train/file_brain_AXFLAIR_200_6002644.h5\n",
            "cs7643-fastmri/data/multicoil_train/file_brain_AXFLAIR_200_6002481.h5\n",
            "cs7643-fastmri/data/multicoil_train/file_brain_AXFLAIR_200_6002442.h5\n",
            "Epoch:  0 learning rate:0.0001 Generator loss:0.6949539Discriminator loss: 1.3863095\n",
            "cs7643-fastmri/data/multicoil_train/file_brain_AXFLAIR_200_6002658.h5\n",
            "cs7643-fastmri/data/multicoil_train/file_brain_AXFLAIR_200_6002487.h5\n",
            "cs7643-fastmri/data/multicoil_train/file_brain_AXFLAIR_200_6002606.h5\n",
            "cs7643-fastmri/data/multicoil_train/file_brain_AXFLAIR_200_6002428.h5\n",
            "cs7643-fastmri/data/multicoil_train/file_brain_AXFLAIR_200_6002474.h5\n",
            "cs7643-fastmri/data/multicoil_train/file_brain_AXFLAIR_200_6002646.h5\n",
            "cs7643-fastmri/data/multicoil_train/file_brain_AXFLAIR_200_6002549.h5\n",
            "cs7643-fastmri/data/multicoil_train/file_brain_AXFLAIR_200_6002558.h5\n",
            "cs7643-fastmri/data/multicoil_train/file_brain_AXFLAIR_200_6002567.h5\n",
            "cs7643-fastmri/data/multicoil_train/file_brain_AXFLAIR_200_6002520.h5\n",
            "cs7643-fastmri/data/multicoil_train/file_brain_AXFLAIR_200_6002553.h5\n",
            "cs7643-fastmri/data/multicoil_train/file_brain_AXFLAIR_200_6002570.h5\n",
            "cs7643-fastmri/data/multicoil_train/file_brain_AXFLAIR_200_6002533.h5\n",
            "cs7643-fastmri/data/multicoil_train/file_brain_AXFLAIR_200_6002631.h5\n",
            "cs7643-fastmri/data/multicoil_train/file_brain_AXFLAIR_200_6002492.h5\n",
            "cs7643-fastmri/data/multicoil_train/file_brain_AXFLAIR_200_6002522.h5\n",
            "cs7643-fastmri/data/multicoil_train/file_brain_AXFLAIR_200_6002507.h5\n",
            "cs7643-fastmri/data/multicoil_train/file_brain_AXFLAIR_200_6002456.h5\n",
            "cs7643-fastmri/data/multicoil_train/file_brain_AXFLAIR_200_6002425.h5\n",
            "cs7643-fastmri/data/multicoil_train/file_brain_AXFLAIR_200_6002452.h5\n",
            "Epoch:  0 learning rate:0.0001 Generator loss:0.6938341Discriminator loss: 1.3862875\n",
            "cs7643-fastmri/data/multicoil_train/file_brain_AXFLAIR_200_6002501.h5\n",
            "Training completed .... Saving model\n",
            "All completed good bye\n"
          ]
        }
      ]
    }
  ]
}